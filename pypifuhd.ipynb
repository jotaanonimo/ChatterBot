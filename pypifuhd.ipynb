{
  "nbformat": 4,
  "nbformat_minor": 0,
  "metadata": {
    "colab": {
      "provenance": [],
      "authorship_tag": "ABX9TyOLaBBbkUG5Dk/MNBDBdY1/",
      "include_colab_link": true
    },
    "kernelspec": {
      "name": "python3",
      "display_name": "Python 3"
    },
    "language_info": {
      "name": "python"
    }
  },
  "cells": [
    {
      "cell_type": "markdown",
      "metadata": {
        "id": "view-in-github",
        "colab_type": "text"
      },
      "source": [
        "<a href=\"https://colab.research.google.com/github/jotaanonimo/ChatterBot/blob/master/pypifuhd.ipynb\" target=\"_parent\"><img src=\"https://colab.research.google.com/assets/colab-badge.svg\" alt=\"Open In Colab\"/></a>"
      ]
    },
    {
      "cell_type": "code",
      "source": [
        "!pip install pypi"
      ],
      "metadata": {
        "colab": {
          "base_uri": "https://localhost:8080/"
        },
        "id": "Lr4PL1Wugx_T",
        "outputId": "bf5824f4-828e-49a9-8b4c-22cd5bac76b5"
      },
      "execution_count": 1,
      "outputs": [
        {
          "output_type": "stream",
          "name": "stdout",
          "text": [
            "Looking in indexes: https://pypi.org/simple, https://us-python.pkg.dev/colab-wheels/public/simple/\n",
            "Collecting pypi\n",
            "  Downloading pypi-2.1.tar.gz (997 bytes)\n",
            "Building wheels for collected packages: pypi\n",
            "  Building wheel for pypi (setup.py) ... \u001b[?25l\u001b[?25hdone\n",
            "  Created wheel for pypi: filename=pypi-2.1-py3-none-any.whl size=1352 sha256=6850b1325c1012b1d287837f7e67ee6348d004d79a182036678e2f2d8718487c\n",
            "  Stored in directory: /root/.cache/pip/wheels/9d/58/40/27b525c0b051491cabddd0157355cd3365dfafe2e83618baa6\n",
            "Successfully built pypi\n",
            "Installing collected packages: pypi\n",
            "Successfully installed pypi-2.1\n"
          ]
        }
      ]
    },
    {
      "cell_type": "code",
      "source": [
        "!pip install pypifuhd"
      ],
      "metadata": {
        "id": "sgu3OiMehDA3",
        "outputId": "50d9bbb8-5ee7-4c0a-fb28-27aa25e8f419",
        "colab": {
          "base_uri": "https://localhost:8080/"
        }
      },
      "execution_count": null,
      "outputs": [
        {
          "output_type": "stream",
          "name": "stdout",
          "text": [
            "Looking in indexes: https://pypi.org/simple, https://us-python.pkg.dev/colab-wheels/public/simple/\n",
            "Collecting pypifuhd\n",
            "  Downloading pypifuhd-2.0.0-py3-none-any.whl (216 kB)\n",
            "\u001b[K     |████████████████████████████████| 216 kB 5.1 MB/s \n",
            "\u001b[?25hCollecting rtree==0.9.7\n",
            "  Downloading Rtree-0.9.7-cp37-cp37m-manylinux2010_x86_64.whl (994 kB)\n",
            "\u001b[K     |████████████████████████████████| 994 kB 44.2 MB/s \n",
            "\u001b[?25hCollecting opencv-python==4.5.3.56\n",
            "  Downloading opencv_python-4.5.3.56-cp37-cp37m-manylinux2014_x86_64.whl (49.9 MB)\n",
            "\u001b[K     |████████████████████████████████| 49.9 MB 98 kB/s \n",
            "\u001b[?25hCollecting trimesh==3.9.25\n",
            "  Downloading trimesh-3.9.25-py3-none-any.whl (634 kB)\n",
            "\u001b[K     |████████████████████████████████| 634 kB 58.8 MB/s \n",
            "\u001b[?25hCollecting scipy==1.7.0\n",
            "  Downloading scipy-1.7.0-cp37-cp37m-manylinux_2_5_x86_64.manylinux1_x86_64.whl (28.5 MB)\n",
            "\u001b[K     |████████████████████████████████| 28.5 MB 1.5 MB/s \n",
            "\u001b[?25hCollecting PyOpenGL==3.1.5\n",
            "  Downloading PyOpenGL-3.1.5-py3-none-any.whl (2.4 MB)\n",
            "\u001b[K     |████████████████████████████████| 2.4 MB 50.5 MB/s \n",
            "\u001b[?25hCollecting mmcv==1.3.10\n",
            "  Downloading mmcv-1.3.10.tar.gz (317 kB)\n",
            "\u001b[K     |████████████████████████████████| 317 kB 55.3 MB/s \n",
            "\u001b[?25hCollecting Pillow==8.3.1\n",
            "  Downloading Pillow-8.3.1-cp37-cp37m-manylinux_2_5_x86_64.manylinux1_x86_64.whl (3.0 MB)\n",
            "\u001b[K     |████████████████████████████████| 3.0 MB 41.6 MB/s \n",
            "\u001b[?25hCollecting torch==1.9.0\n",
            "  Downloading torch-1.9.0-cp37-cp37m-manylinux1_x86_64.whl (831.4 MB)\n",
            "\u001b[K     |█████████▋                      | 249.0 MB 1.5 MB/s eta 0:06:32"
          ]
        }
      ]
    }
  ]
}